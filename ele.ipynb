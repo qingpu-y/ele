{
 "cells": [
  {
   "cell_type": "markdown",
   "metadata": {},
   "source": [
    "1.爬取房价不同地方的外面殿\n",
    "2.爬取学校面积不同地方的外卖店\n",
    "3.爬起爬取之后需要对照周边是否有大型购物中心"
   ]
  },
  {
   "cell_type": "code",
   "execution_count": 1,
   "metadata": {},
   "outputs": [],
   "source": [
    "from selenium import webdriver\n",
    "from selenium.webdriver.edge.service import Service\n",
    "from webdriver_manager.microsoft import EdgeChromiumDriverManager\n",
    "from selenium.webdriver.common.by import By\n",
    "from selenium.webdriver.support.ui import WebDriverWait\n",
    "from selenium.webdriver.support import expected_conditions as EC\n",
    "from browsermobproxy import Server\n",
    "from selenium.webdriver.common.keys import Keys \n",
    "from selenium.webdriver import ActionChains\n",
    "from selenium.webdriver.remote.webdriver import NoSuchElementException\n",
    "from selenium.webdriver.remote.errorhandler import ElementClickInterceptedException\n",
    "from selenium.common.exceptions import StaleElementReferenceException\n",
    "\n",
    "import jsonpath\n",
    "import re\n",
    "import time\n",
    "import pandas as pd\n",
    "import numpy as np\n",
    "import json\n",
    "import os\n",
    "os.environ[\"KMP_DUPLICATE_LIB_OK\"]=\"TRUE\""
   ]
  },
  {
   "cell_type": "code",
   "execution_count": 2,
   "metadata": {},
   "outputs": [],
   "source": [
    "# 运行代理服务\n",
    "PATH = \"C:\\\\Users\\\\caoni\\\\Desktop\\\\projecet\\\\python\\\\scrapy\\\\eleme\\\\browsermob-proxy-2.1.4\\\\bin\\\\browsermob-proxy.bat\"\n",
    "server = Server(PATH,{\"port\":8739})\n",
    "server.start()\n",
    "proxy = server.create_proxy()"
   ]
  },
  {
   "cell_type": "code",
   "execution_count": 4,
   "metadata": {},
   "outputs": [
    {
     "name": "stderr",
     "output_type": "stream",
     "text": [
      "c:\\Users\\caoni\\.conda\\envs\\WebCrawle\\lib\\site-packages\\ipykernel_launcher.py:15: DeprecationWarning: use options instead of chrome_options\n",
      "  from ipykernel import kernelapp as app\n"
     ]
    }
   ],
   "source": [
    "chrome_options = webdriver.ChromeOptions()\n",
    "# chrome_options.add_argument(\"../Selenium_drive/chromedriver.exe\")\n",
    "chrome_options.add_argument(\"--no-sandbox\")\n",
    "chrome_options.add_argument(\"--disable-blink-features=AutomationControlled\")\n",
    "# 反反爬虫：掩盖selenium浏览器指纹，可在控制台通过window.navigator.webdriver查看得false\n",
    "chrome_options.add_experimental_option('excludeSwitches', ['enable-automation'])\n",
    "# chrome升级至v59以后，可用如下headless的方式使得不显示浏览器界面\n",
    "\"\"\"\n",
    "chrome_options.add_argument('--headless')\n",
    "# chrome_options.add_argument('--disable-gpu')\n",
    "\"\"\"\n",
    "chrome_options.add_argument('--ignore-certificate-errors') \n",
    "#对游览器设置代理\n",
    "# chrome_options.add_argument('--proxy-server={0}'.format(proxy.proxy))\n",
    "driver = webdriver.Chrome(chrome_options=chrome_options)\n",
    "\n",
    "driver.get(\"https://tb.ele.me/wow/msite/act/login\")\n",
    "\n",
    "# 登录页面操作\n",
    "# 通过 id 切换框架\n",
    "driver.switch_to.frame('alibaba-login-box')\n",
    "\n",
    "# 获取并自动填充手机号\n",
    "driver.find_element(By.XPATH,'//input[@id=\"fm-sms-login-id\"]').send_keys(\"18368028196\")\n",
    "# 同意协议并发送验证码\n",
    "driver.find_element(By.ID,\"fm-agreement-checkbox\").click()\n",
    "# 离开iframe\n",
    "# driver.switch_to.default_content()\n",
    "driver.find_element(By.XPATH,\"/html/body/div/div/div[1]/div/form/div[3]/div[2]/a\").click()"
   ]
  },
  {
   "cell_type": "code",
   "execution_count": 4,
   "metadata": {},
   "outputs": [],
   "source": [
    "# 地理位置模拟设置 selemue4 \n",
    "def changeLocation(longitude,latitude):\n",
    "    # driver = webdriver.Chrome()\n",
    "    Map_coordinates = dict({\n",
    "        \"latitude\": latitude, # 纬度\n",
    "        \"longitude\": longitude, # 经度\n",
    "        \"accuracy\": 100 # 定位准确性\n",
    "        })\n",
    "    driver.execute_cdp_cmd(\"Emulation.setGeolocationOverride\", Map_coordinates)\n",
    "    # 每次修改地址之后刷新网页\n",
    "    driver.get(\"https://h5.ele.me\")\n",
    "    time.sleep(3)\n",
    "    return driver.find_element(By.CLASS_NAME,\"address-txt\")\n",
    "  "
   ]
  },
  {
   "cell_type": "markdown",
   "metadata": {},
   "source": [
    "### 开始爬取网页"
   ]
  },
  {
   "cell_type": "code",
   "execution_count": 5,
   "metadata": {},
   "outputs": [],
   "source": [
    "    # 鼠标滚轮事件下滑网页\n",
    "def down(_):\n",
    "        driver.find_element(By.TAG_NAME,\"html\").send_keys(Keys.END)"
   ]
  },
  {
   "cell_type": "code",
   "execution_count": null,
   "metadata": {},
   "outputs": [],
   "source": [
    "# driver.get(\"https://h5.ele.me\")"
   ]
  },
  {
   "cell_type": "code",
   "execution_count": 6,
   "metadata": {},
   "outputs": [
    {
     "data": {
      "text/plain": [
       "27.6724873"
      ]
     },
     "execution_count": 6,
     "metadata": {},
     "output_type": "execute_result"
    }
   ],
   "source": [
    "# 导入地区的经纬度\n",
    "longAndlatitude = pd.read_csv(\"./wenzhou.csv\")\n",
    "\n",
    "longAndlatitude.iloc[0][0]"
   ]
  },
  {
   "cell_type": "code",
   "execution_count": null,
   "metadata": {},
   "outputs": [],
   "source": [
    "coordinate = 0"
   ]
  },
  {
   "cell_type": "code",
   "execution_count": 9,
   "metadata": {},
   "outputs": [
    {
     "name": "stdout",
     "output_type": "stream",
     "text": [
      "120.2935867_27.7956562.csv,8\n",
      "120.3797302_27.7935734.csv,5\n",
      "120.4658585_27.7914371.csv,205\n",
      "120.5517883_27.7909126.csv,205\n",
      "120.6380997_27.7870121.csv,205\n",
      "120.7241974_27.784708.csv,205\n",
      "120.8092194_27.7925644.csv,42\n",
      "120.863327_27.804985.csv,5\n",
      "120.2283554_27.8685303.csv,5\n",
      "120.2959061_27.872263.csv,5\n",
      "120.382103_27.8701725.csv,5\n",
      "120.382103_27.8701725.csv,5\n",
      "120.4682999_27.8680305.csv,10\n",
      "120.5544815_27.8658352.csv,43\n",
      "120.6406479_27.8635826.csv,205\n",
      "120.7268143_27.8612804.csv,103\n",
      "120.8129654_27.8589211.csv,205\n",
      "120.884346_27.8634567.csv,25\n",
      "120.2443924_27.9311256.csv,5\n",
      "120.3005066_27.9409218.csv,5\n",
      "120.3846817_27.9465961.csv,5\n",
      "120.4707413_27.944622.csv,11\n",
      "120.5569839_27.9424191.csv,205\n",
      "120.643219_27.9401627.csv,205\n",
      "120.7294388_27.9378529.csv,125\n",
      "120.8136368_27.9337769.csv,205\n",
      "120.8886337_27.91362.csv,34\n",
      "120.3397751_27.9976368.csv,5\n",
      "120.389122_28.0217075.csv,5\n",
      "120.4731979_28.0212135.csv,33\n",
      "120.5588455_28.0185528.csv,205\n",
      "120.6457977_28.0040169.csv,205\n",
      "120.7305679_27.9996376.csv,205\n",
      "120.7916641_27.988533.csv,124\n",
      "120.4070816_28.0917702.csv,5\n",
      "120.475502_28.0975227.csv,20\n",
      "120.553833_28.0903091.csv,120\n",
      "120.4121857_28.1461029.csv,8\n",
      "120.4561539_28.1429901.csv,5\n",
      "120.5431213_28.1356926.csv,23\n"
     ]
    }
   ],
   "source": [
    "for coordinate in range(coordinate,len(longAndlatitude)):\n",
    "    long = longAndlatitude.iloc[coordinate][0]\n",
    "    atitude = longAndlatitude.iloc[coordinate][1]\n",
    "    # 先给定一个CSV列表\n",
    "    fileName = f\"{atitude}_{long}.csv\"\n",
    "    open(f\"./coordinate_store/{fileName}\",\"w\",encoding=\"utf-8-sig\").write(\"brandName,point,sell(M),getTime(Min),distance(KM),deliverStart,deliverFee,vipCoupon,Location,URL\\n\")\n",
    "    grab_homepage(fileName,atitude,long)"
   ]
  },
  {
   "cell_type": "code",
   "execution_count": null,
   "metadata": {},
   "outputs": [],
   "source": [
    "# 逻辑：先让网页向下滑到底部"
   ]
  },
  {
   "cell_type": "code",
   "execution_count": 7,
   "metadata": {},
   "outputs": [],
   "source": [
    "def grab_homepage(fileName,atitude,long):\n",
    "    flag = 1\n",
    "    while 1:\n",
    "        try:\n",
    "            if flag !=1 and driver.find_element(By.CLASS_NAME,\"list_status\").text != \"正在加载更多...\":\n",
    "            # 解包\n",
    "                pack = proxy.har\n",
    "            # get shop URL\n",
    "                urls = []\n",
    "                for i, j in enumerate(pack['log']['entries']):\n",
    "                    if 'shopId=' in j['response']['content'].get('text', ''):\n",
    "                        text = pack['log']['entries'][i]['response']['content']['text']\n",
    "                        if text.startswith('('): continue\n",
    "                        text = json.loads(text)\n",
    "                        urls.extend(text['data']['data']['frontend_page_shop_list_recommend']['fields']['items'])\n",
    "                print(f\"{fileName},{len(urls)}\")\n",
    "                local = driver.find_element(By.CLASS_NAME,\"address-txt\").text\n",
    "                \n",
    "                for i in urls:\n",
    "                    # get data\n",
    "                    url = i[\"fields\"][\"restaurant\"][\"scheme\"]\n",
    "                    brandName = i[\"fields\"][\"restaurant\"][\"name\"]\n",
    "                    point = i[\"fields\"][\"restaurant\"][\"rating\"]\n",
    "                    sell = i[\"fields\"][\"restaurant\"][\"recentOrderNum\"]\n",
    "                    # 部分商家会采用快递发货所以 orderLeadTime 字段可能会不存在,,\n",
    "                    try:\n",
    "                        getTime = i[\"fields\"][\"restaurant\"][\"orderLeadTime\"]\n",
    "                    except KeyError:\n",
    "                        getTime = \"NaN\"\n",
    "                    try:\n",
    "                        distance = i[\"fields\"][\"restaurant\"][\"distance\"]\n",
    "                    except KeyError:\n",
    "                        distance = \"NaN\"\n",
    "                    deliverStart = i[\"fields\"][\"restaurant\"][\"piecewiseAgentFee\"][\"rules\"][0][\"price\"]\n",
    "                    try:\n",
    "                        deliverFee = i[\"fields\"][\"restaurant\"][\"piecewiseAgentFee\"][\"rules\"][0][\"fee\"]\n",
    "                    except KeyError:\n",
    "                        deliverFee = i[\"fields\"][\"restaurant\"][\"piecewiseAgentFee\"][\"description\"]\n",
    "                    try:\n",
    "                        vipCoupon = \"-\".join(jsonpath.jsonpath(i[\"fields\"][\"restaurant\"][\"tagRegion\"][\"foldingSupportTags\"],\"$..text\"))\n",
    "                    except KeyError:\n",
    "                        vipCoupon = \"NaN\"\n",
    "                    open(f\"./coordinate_store/{fileName}\",\"a\",encoding=\"utf-8-sig\").write(f\"{brandName},{point},{sell},{getTime},{round(float(distance)/1000,1)},{deliverStart},{deliverFee},{vipCoupon},{local},{url}\\n\")\n",
    "                    # print(f\"{brandName},{point},{sell},{getTime},{round(float(distance)/1000,1)},{deliverStart},{deliverFee},{vipCoupon},{local},{url}\")\n",
    "                # exist loop\n",
    "                return True\n",
    "                break\n",
    "                # stop proxy server\n",
    "                # server.stop()\n",
    "\n",
    "            else:\n",
    "\n",
    "                down(_)\n",
    "\n",
    "                if flag:\n",
    "                # 开始抓包\n",
    "                # 抓包/刷新包中的内容\n",
    "                    proxy.new_har(\"ele\", options={'captureHeaders': True, 'captureContent': True})\n",
    "                # 给定经纬度 并刷新网页\n",
    "                    Location = changeLocation(atitude,long)\n",
    "                # 点击网页任意元素让down生效\n",
    "                    driver.find_element(By.CLASS_NAME,\"nav-ele\").click()\n",
    "                    flag = 0\n",
    "        except StaleElementReferenceException:\n",
    "            # print(\"\")\n",
    "            if grab_homepage(fileName,atitude,long):\n",
    "                break\n",
    "        except NoSuchElementException:\n",
    "            if driver.find_element(By.CLASS_NAME,\"text-content\").text == \"你的网络饿晕过去了，请刷新重试\":\n",
    "                # 解包\n",
    "                pack = proxy.har\n",
    "            # get shop URL\n",
    "                urls = []\n",
    "                for i, j in enumerate(pack['log']['entries']):\n",
    "                    if 'shopId=' in j['response']['content'].get('text', ''):\n",
    "                        text = pack['log']['entries'][i]['response']['content']['text']\n",
    "                        if text.startswith('('): continue\n",
    "                        text = json.loads(text)\n",
    "                        urls.extend(text['data']['data']['frontend_page_shop_list_recommend']['fields']['items'])\n",
    "                print(f\"{fileName},{len(urls)}\")\n",
    "                local = driver.find_element(By.CLASS_NAME,\"address-txt\").text\n",
    "                \n",
    "                for i in urls:\n",
    "                    # get data\n",
    "                    url = i[\"fields\"][\"restaurant\"][\"scheme\"]\n",
    "                    brandName = i[\"fields\"][\"restaurant\"][\"name\"]\n",
    "                    point = i[\"fields\"][\"restaurant\"][\"rating\"]\n",
    "                    sell = i[\"fields\"][\"restaurant\"][\"recentOrderNum\"]\n",
    "                    # 部分商家会采用快递发货所以 orderLeadTime 字段可能会不存在,,\n",
    "                    try:\n",
    "                        getTime = i[\"fields\"][\"restaurant\"][\"orderLeadTime\"]\n",
    "                    except KeyError:\n",
    "                        getTime = \"NaN\"\n",
    "                    try:\n",
    "                        distance = i[\"fields\"][\"restaurant\"][\"distance\"]\n",
    "                    except KeyError:\n",
    "                        distance = \"NaN\"\n",
    "                    deliverStart = i[\"fields\"][\"restaurant\"][\"piecewiseAgentFee\"][\"rules\"][0][\"price\"]\n",
    "                    try:\n",
    "                        deliverFee = i[\"fields\"][\"restaurant\"][\"piecewiseAgentFee\"][\"rules\"][0][\"fee\"]\n",
    "                    except KeyError:\n",
    "                        deliverFee = i[\"fields\"][\"restaurant\"][\"piecewiseAgentFee\"][\"description\"]\n",
    "                    try:\n",
    "                        vipCoupon = \"-\".join(jsonpath.jsonpath(i[\"fields\"][\"restaurant\"][\"tagRegion\"][\"foldingSupportTags\"],\"$..text\"))\n",
    "                    except KeyError:\n",
    "                        vipCoupon = \"NaN\"\n",
    "                    open(f\"./coordinate_store/{fileName}\",\"a\",encoding=\"utf-8-sig\").write(f\"{brandName},{point},{sell},{getTime},{round(float(distance)/1000,1)},{deliverStart},{deliverFee},{vipCoupon},{local},{url}\\n\")\n",
    "                    # print(f\"{brandName},{point},{sell},{getTime},{round(float(distance)/1000,1)},{deliverStart},{deliverFee},{vipCoupon},{local},{url}\")\n",
    "                # exist loop\n",
    "                return True\n",
    "                break\n",
    "                # stop proxy server\n",
    "                # server.stop()\n"
   ]
  },
  {
   "cell_type": "code",
   "execution_count": 13,
   "metadata": {},
   "outputs": [],
   "source": [
    "# 分析抓取过来的homePage文件夹内的文件 合并所有csv文件 去重 "
   ]
  },
  {
   "cell_type": "code",
   "execution_count": 12,
   "metadata": {},
   "outputs": [],
   "source": [
    "fileNamelist = os.listdir(\"./coordinate_store/\")\n",
    "allFileADD = pd.concat([pd.read_csv(f\"./coordinate_store/{fileName}\") for fileName in fileNamelist])\n",
    "allFileADD.reset_index(drop=True)\n",
    "back_allFile = allFileADD"
   ]
  },
  {
   "cell_type": "code",
   "execution_count": 18,
   "metadata": {},
   "outputs": [],
   "source": [
    "allFileADD.drop_duplicates([\"brandName\",\"point\",\"sell(M)\"], inplace=True)"
   ]
  },
  {
   "cell_type": "code",
   "execution_count": 20,
   "metadata": {},
   "outputs": [],
   "source": [
    "allFileADD.to_csv('data.csv', index=False, encoding='utf-8-sig')"
   ]
  },
  {
   "cell_type": "markdown",
   "metadata": {},
   "source": [
    "##### 去重2 去除上次爬取的数据"
   ]
  },
  {
   "cell_type": "code",
   "execution_count": 252,
   "metadata": {},
   "outputs": [
    {
     "name": "stdout",
     "output_type": "stream",
     "text": [
      "2696\n"
     ]
    }
   ],
   "source": [
    "latest_data = pd.read_csv(\"./已经爬取.csv\")\n",
    "\n",
    "delete_data = pd.read_csv(\"./duplicate_value.csv\")\n",
    "\n",
    "print(len(delete_data))\n",
    "\n",
    "\n",
    "\n",
    "# delete_data[delete_data['brandName'].isin([\"华莱士·全鸡汉堡(郭溪景德店)\"])&delete_data['point'].isin([4.5])]\n",
    "for b,p in zip(latest_data.brandName,latest_data.point):\n",
    "    d = delete_data[delete_data['brandName'].isin([b])&delete_data['point'].isin([float(p)])]\n",
    "    delete_data = delete_data.drop(d.index)"
   ]
  },
  {
   "cell_type": "code",
   "execution_count": null,
   "metadata": {},
   "outputs": [],
   "source": []
  },
  {
   "cell_type": "code",
   "execution_count": null,
   "metadata": {},
   "outputs": [],
   "source": [
    "get_data"
   ]
  },
  {
   "cell_type": "code",
   "execution_count": 256,
   "metadata": {},
   "outputs": [
    {
     "name": "stdout",
     "output_type": "stream",
     "text": [
      "2332\n"
     ]
    }
   ],
   "source": [
    "# 保存为CSV\n",
    "print(len(delete_data))\n",
    "delete_data.to_csv(\"./again_duplicates.csv\",encoding=\"utf-8-sig\")"
   ]
  },
  {
   "cell_type": "markdown",
   "metadata": {},
   "source": [
    "## CODE TEST "
   ]
  },
  {
   "cell_type": "code",
   "execution_count": 5,
   "metadata": {},
   "outputs": [],
   "source": [
    "# 读取\n",
    "rewriteInfo = pd.read_csv(\"./data.csv\")"
   ]
  },
  {
   "cell_type": "code",
   "execution_count": 6,
   "metadata": {},
   "outputs": [],
   "source": [
    "driver.get(rewriteInfo.URL[0])"
   ]
  },
  {
   "cell_type": "code",
   "execution_count": 9,
   "metadata": {},
   "outputs": [],
   "source": [
    "def hide(element):\n",
    "    js = '''var a = document.getElementsByClassName('J_MIDDLEWARE_FRAME_WIDGET');\n",
    "    for (i in a) {\n",
    "        a[i].style = \"display: none\";\n",
    "    }'''\n",
    "    driver.execute_script(js)"
   ]
  },
  {
   "cell_type": "code",
   "execution_count": 10,
   "metadata": {},
   "outputs": [],
   "source": [
    "def click(element):\n",
    "    element[0].click()"
   ]
  },
  {
   "cell_type": "code",
   "execution_count": 28,
   "metadata": {},
   "outputs": [],
   "source": [
    "def doIfExist(element, *f):\n",
    "    for f in f:\n",
    "        if element: f(element)"
   ]
  },
  {
   "cell_type": "code",
   "execution_count": 45,
   "metadata": {},
   "outputs": [],
   "source": [
    "def clickOrSkip(element):\n",
    "    return not element or element[-1].click() or time.sleep(2)"
   ]
  },
  {
   "cell_type": "code",
   "execution_count": 39,
   "metadata": {},
   "outputs": [],
   "source": [
    "index = 180"
   ]
  },
  {
   "cell_type": "code",
   "execution_count": 25,
   "metadata": {},
   "outputs": [],
   "source": [
    "index = 0\n",
    "T = t = time.time()"
   ]
  },
  {
   "cell_type": "code",
   "execution_count": null,
   "metadata": {},
   "outputs": [],
   "source": [
    "rewriteInfo[:index].to_csv('data1.csv', index=False, encoding='utf-8-sig')"
   ]
  },
  {
   "cell_type": "code",
   "execution_count": 14,
   "metadata": {},
   "outputs": [],
   "source": [
    "import csv"
   ]
  },
  {
   "cell_type": "code",
   "execution_count": 26,
   "metadata": {},
   "outputs": [],
   "source": [
    "f = open('data1.csv', 'w', encoding='utf-8-sig', newline='\\n')\n",
    "writer = csv.writer(f)\n",
    "writer.writerow(['', \"Merchant address\", \"Type\", \"openTime\"])\n",
    "f.close()"
   ]
  },
  {
   "cell_type": "code",
   "execution_count": 19,
   "metadata": {},
   "outputs": [],
   "source": [
    "f.close()"
   ]
  },
  {
   "cell_type": "code",
   "execution_count": null,
   "metadata": {},
   "outputs": [],
   "source": [
    "from selenium.webdriver.support.wait import WebDriverWait\n",
    "from selenium.webdriver.common.by import By\n",
    "\n"
   ]
  },
  {
   "cell_type": "code",
   "execution_count": 54,
   "metadata": {},
   "outputs": [],
   "source": [
    "from selenium.common.exceptions import TimeoutException"
   ]
  },
  {
   "cell_type": "code",
   "execution_count": null,
   "metadata": {},
   "outputs": [],
   "source": [
    "EC.presence_of_all_elements_located"
   ]
  },
  {
   "cell_type": "code",
   "execution_count": 73,
   "metadata": {},
   "outputs": [
    {
     "name": "stdout",
     "output_type": "stream",
     "text": [
      "已完成: 480项, 用时424.96s, 总共用时: 76.96 min\n",
      "已完成: 500项, 用时136.63s, 总共用时: 79.24 min\n",
      "已完成: 520项, 用时134.04s, 总共用时: 81.47 min\n",
      "已完成: 540项, 用时143.65s, 总共用时: 83.87 min\n",
      "已完成: 560项, 用时135.92s, 总共用时: 86.13 min\n",
      "已完成: 580项, 用时139.87s, 总共用时: 88.46 min\n",
      "已完成: 600项, 用时135.20s, 总共用时: 90.72 min\n",
      "已完成: 620项, 用时136.59s, 总共用时: 92.99 min\n",
      "已完成: 640项, 用时144.53s, 总共用时: 95.40 min\n",
      "已完成: 660项, 用时133.60s, 总共用时: 97.63 min\n",
      "已完成: 680项, 用时134.17s, 总共用时: 99.87 min\n",
      "已完成: 700项, 用时135.03s, 总共用时: 102.12 min\n",
      "已完成: 720项, 用时137.09s, 总共用时: 104.40 min\n",
      "已完成: 740项, 用时150.96s, 总共用时: 106.92 min\n",
      "已完成: 760项, 用时134.96s, 总共用时: 109.17 min\n"
     ]
    },
    {
     "ename": "KeyboardInterrupt",
     "evalue": "",
     "output_type": "error",
     "traceback": [
      "\u001b[1;31m---------------------------------------------------------------------------\u001b[0m",
      "\u001b[1;31mKeyboardInterrupt\u001b[0m                         Traceback (most recent call last)",
      "\u001b[1;32m~\\AppData\\Local\\Temp/ipykernel_10628/2560918837.py\u001b[0m in \u001b[0;36m<module>\u001b[1;34m\u001b[0m\n\u001b[0;32m      6\u001b[0m     \u001b[0mdoIfExist\u001b[0m\u001b[1;33m(\u001b[0m\u001b[0mdriver\u001b[0m\u001b[1;33m.\u001b[0m\u001b[0mfind_elements\u001b[0m\u001b[1;33m(\u001b[0m\u001b[0mBy\u001b[0m\u001b[1;33m.\u001b[0m\u001b[0mCLASS_NAME\u001b[0m\u001b[1;33m,\u001b[0m \u001b[1;34m'closeIcon__a68d961f'\u001b[0m\u001b[1;33m)\u001b[0m\u001b[1;33m,\u001b[0m \u001b[0mclick\u001b[0m\u001b[1;33m)\u001b[0m\u001b[1;33m\u001b[0m\u001b[1;33m\u001b[0m\u001b[0m\n\u001b[0;32m      7\u001b[0m     \u001b[1;32mtry\u001b[0m\u001b[1;33m:\u001b[0m\u001b[1;33m\u001b[0m\u001b[1;33m\u001b[0m\u001b[0m\n\u001b[1;32m----> 8\u001b[1;33m         \u001b[0mWebDriverWait\u001b[0m\u001b[1;33m(\u001b[0m\u001b[0mdriver\u001b[0m\u001b[1;33m,\u001b[0m \u001b[1;36m10\u001b[0m\u001b[1;33m)\u001b[0m\u001b[1;33m.\u001b[0m\u001b[0muntil\u001b[0m\u001b[1;33m(\u001b[0m\u001b[0mEC\u001b[0m\u001b[1;33m.\u001b[0m\u001b[0mpresence_of_all_elements_located\u001b[0m\u001b[1;33m(\u001b[0m\u001b[1;33m(\u001b[0m\u001b[0mBy\u001b[0m\u001b[1;33m.\u001b[0m\u001b[0mCLASS_NAME\u001b[0m\u001b[1;33m,\u001b[0m \u001b[1;34m'tab__item-text'\u001b[0m\u001b[1;33m)\u001b[0m\u001b[1;33m)\u001b[0m\u001b[1;33m)\u001b[0m\u001b[1;33m[\u001b[0m\u001b[1;33m-\u001b[0m\u001b[1;36m1\u001b[0m\u001b[1;33m]\u001b[0m\u001b[1;33m.\u001b[0m\u001b[0mclick\u001b[0m\u001b[1;33m(\u001b[0m\u001b[1;33m)\u001b[0m\u001b[1;33m\u001b[0m\u001b[1;33m\u001b[0m\u001b[0m\n\u001b[0m\u001b[0;32m      9\u001b[0m     \u001b[1;32mexcept\u001b[0m \u001b[0mTimeoutException\u001b[0m\u001b[1;33m:\u001b[0m\u001b[1;33m\u001b[0m\u001b[1;33m\u001b[0m\u001b[0m\n\u001b[0;32m     10\u001b[0m         \u001b[0mf\u001b[0m \u001b[1;33m=\u001b[0m \u001b[0mopen\u001b[0m\u001b[1;33m(\u001b[0m\u001b[1;34m'data1.csv'\u001b[0m\u001b[1;33m,\u001b[0m \u001b[1;34m'a'\u001b[0m\u001b[1;33m,\u001b[0m \u001b[0mencoding\u001b[0m\u001b[1;33m=\u001b[0m\u001b[1;34m'utf-8-sig'\u001b[0m\u001b[1;33m,\u001b[0m \u001b[0mnewline\u001b[0m\u001b[1;33m=\u001b[0m\u001b[1;34m'\\n'\u001b[0m\u001b[1;33m)\u001b[0m\u001b[1;33m\u001b[0m\u001b[1;33m\u001b[0m\u001b[0m\n",
      "\u001b[1;32mc:\\Users\\caoni\\.conda\\envs\\WebCrawle\\lib\\site-packages\\selenium\\webdriver\\support\\wait.py\u001b[0m in \u001b[0;36muntil\u001b[1;34m(self, method, message)\u001b[0m\n\u001b[0;32m     82\u001b[0m                 \u001b[0mscreen\u001b[0m \u001b[1;33m=\u001b[0m \u001b[0mgetattr\u001b[0m\u001b[1;33m(\u001b[0m\u001b[0mexc\u001b[0m\u001b[1;33m,\u001b[0m \u001b[1;34m'screen'\u001b[0m\u001b[1;33m,\u001b[0m \u001b[1;32mNone\u001b[0m\u001b[1;33m)\u001b[0m\u001b[1;33m\u001b[0m\u001b[1;33m\u001b[0m\u001b[0m\n\u001b[0;32m     83\u001b[0m                 \u001b[0mstacktrace\u001b[0m \u001b[1;33m=\u001b[0m \u001b[0mgetattr\u001b[0m\u001b[1;33m(\u001b[0m\u001b[0mexc\u001b[0m\u001b[1;33m,\u001b[0m \u001b[1;34m'stacktrace'\u001b[0m\u001b[1;33m,\u001b[0m \u001b[1;32mNone\u001b[0m\u001b[1;33m)\u001b[0m\u001b[1;33m\u001b[0m\u001b[1;33m\u001b[0m\u001b[0m\n\u001b[1;32m---> 84\u001b[1;33m             \u001b[0mtime\u001b[0m\u001b[1;33m.\u001b[0m\u001b[0msleep\u001b[0m\u001b[1;33m(\u001b[0m\u001b[0mself\u001b[0m\u001b[1;33m.\u001b[0m\u001b[0m_poll\u001b[0m\u001b[1;33m)\u001b[0m\u001b[1;33m\u001b[0m\u001b[1;33m\u001b[0m\u001b[0m\n\u001b[0m\u001b[0;32m     85\u001b[0m             \u001b[1;32mif\u001b[0m \u001b[0mtime\u001b[0m\u001b[1;33m.\u001b[0m\u001b[0mmonotonic\u001b[0m\u001b[1;33m(\u001b[0m\u001b[1;33m)\u001b[0m \u001b[1;33m>\u001b[0m \u001b[0mend_time\u001b[0m\u001b[1;33m:\u001b[0m\u001b[1;33m\u001b[0m\u001b[1;33m\u001b[0m\u001b[0m\n\u001b[0;32m     86\u001b[0m                 \u001b[1;32mbreak\u001b[0m\u001b[1;33m\u001b[0m\u001b[1;33m\u001b[0m\u001b[0m\n",
      "\u001b[1;31mKeyboardInterrupt\u001b[0m: "
     ]
    }
   ],
   "source": [
    "for index in range(index, len(rewriteInfo)):\n",
    "    driver.get(rewriteInfo.URL[index])\n",
    "    time.sleep(5)\n",
    "    doIfExist(driver.find_elements(By.TAG_NAME, 'iframe'), hide)\n",
    "    doIfExist(driver.find_elements(By.CLASS_NAME, 'arrow'), click)\n",
    "    doIfExist(driver.find_elements(By.CLASS_NAME, 'closeIcon__a68d961f'), click)\n",
    "    try:\n",
    "        WebDriverWait(driver, 10).until(EC.presence_of_all_elements_located((By.CLASS_NAME, 'tab__item-text')))[-1].click()\n",
    "    except TimeoutException:\n",
    "        f = open('data1.csv', 'a', encoding='utf-8-sig', newline='\\n')\n",
    "        writer = csv.writer(f)\n",
    "        writer.writerow([index])\n",
    "        f.close()\n",
    "        continue\n",
    "    \n",
    "    doIfExist(driver.find_elements(By.CLASS_NAME, 'action__right'), click, lambda : time.sleep(2))\n",
    "    try:\n",
    "        shop_add = WebDriverWait(driver, 10).until(EC.presence_of_element_located((By.CLASS_NAME,\"shop__info__name-location-location\"))).text\n",
    "        shop_type, opening_time = driver.find_elements(By.CLASS_NAME,\"shop__info__category-item\")\n",
    "        shop_type = shop_type.text.replace('商家品类：', '')\n",
    "        opening_time = opening_time.text.replace('营业时间：', '')\n",
    "        f = open('data1.csv', 'a', encoding='utf-8-sig', newline='\\n')\n",
    "        writer = csv.writer(f)\n",
    "        writer.writerow([index, shop_add, shop_type, opening_time])\n",
    "        f.close()\n",
    "    except TimeoutException:\n",
    "        f = open('data1.csv', 'a', encoding='utf-8-sig', newline='\\n')\n",
    "        writer = csv.writer(f)\n",
    "        writer.writerow([index, 'wait'])\n",
    "        f.close()\n",
    "        continue\n",
    "    if not index % 20:\n",
    "        print(f'已完成: {index}项, 用时{time.time() - t:.2f}s, 总共用时: {(time.time() - T) / 60:.2f} min')\n",
    "        t = time.time()"
   ]
  },
  {
   "cell_type": "code",
   "execution_count": null,
   "metadata": {},
   "outputs": [],
   "source": [
    "def replace_plus(r_list,r_str,r_character):\n",
    "    n_r_str = str(r_str)\n",
    "    for i in r_list:\n",
    "        for j in range(0,len(r_str)):\n",
    "            if i == r_str[j]:\n",
    "                n_r_str = n_r_str.replace(i,r_character)\n",
    "    return n_r_str\n",
    "               \n",
    "replace_plus([\"起\",\"¥\"],\"¥23.98起\",\"\")\n",
    "def clear(unequal,num,clearValue):\n",
    "    \"\"\"\n",
    "    unequal:\n",
    "        + 清除大于num的数\n",
    "        -  清除小于num的数\n",
    "        = 清楚等于num的数\n",
    "    \"\"\"\n",
    "    sortedList = sorted(clearValue)\n",
    "\n",
    "    if unequal == \"+\":\n",
    "        for i in range(len(sortedList)):\n",
    "            if sortedList[i] > num:\n",
    "                return sortedList[i::]\n",
    "\n",
    "    if unequal == \"-\":\n",
    "        for i in range(len(sortedList)):\n",
    "            if sortedList[i] > num:\n",
    "                return sortedList[:i]\n",
    "    if unequal == \"=\":\n",
    "        return list(filter((num).__ne__,sortedList))\n"
   ]
  },
  {
   "cell_type": "code",
   "execution_count": 301,
   "metadata": {},
   "outputs": [],
   "source": [
    "# 进一步精简Q中的数组\n",
    "def condenseQ(Q):\n",
    "    condenseQ = 0\n",
    "    for i in Q:\n",
    "        if driver.find_elements(By.CLASS_NAME,\"menuItem\")[-1].find_element(By.CLASS_NAME,\"menuItem--info-title\").text in str(i):\n",
    "            condenseQ = json.loads(i[\"response\"][\"content\"][\"text\"])[\"data\"][\"resultMap\"][\"menu\"][\"itemGroups\"]\n",
    "            break\n",
    "    return condenseQ\n",
    "\n",
    "# 从json获取所有商品价格(商品价格+打包费)\n",
    "def allPrice(condenseQ):\n",
    "    if condenseQ:\n",
    "        # 暂时找不到计算用户平均消费的良好数据暂时传入数组\n",
    "        allPriceL = []\n",
    "        for i in condenseQ:\n",
    "            for j in i[\"items\"][1::]:\n",
    "                packageFee = jsonpath.jsonpath(j,\"$..packageFee\")[-1]\n",
    "                if jsonpath.jsonpath(j,\"$..useCouponPrice\"):\n",
    "                    commodityPrice = jsonpath.jsonpath(j,\"$..useCouponPrice\")[-1]\n",
    "                    commodityPrice = replace_plus([\"起\",\"¥\"],commodityPrice,\"\")\n",
    "                else:\n",
    "                    commodityPrice = jsonpath.jsonpath(j,\"$..price\")[-1]\n",
    "                statement = float(packageFee) + float(commodityPrice)\n",
    "                # print(statement)\n",
    "                allPriceL.append(statement)\n",
    "        # print(allPrice)\n",
    "        return allPriceL\n",
    "    else:\n",
    "        return \"SOME EEROR\""
   ]
  },
  {
   "cell_type": "code",
   "execution_count": 303,
   "metadata": {},
   "outputs": [
    {
     "name": "stdout",
     "output_type": "stream",
     "text": [
      "Q IS NULL .FUCK!!! index:1519\n",
      "Q IS NULL .FUCK!!! index:1572\n"
     ]
    },
    {
     "ename": "KeyboardInterrupt",
     "evalue": "",
     "output_type": "error",
     "traceback": [
      "\u001b[1;31m---------------------------------------------------------------------------\u001b[0m",
      "\u001b[1;31mKeyboardInterrupt\u001b[0m                         Traceback (most recent call last)",
      "\u001b[1;32m~\\AppData\\Local\\Temp/ipykernel_10356/1651590084.py\u001b[0m in \u001b[0;36m<module>\u001b[1;34m\u001b[0m\n\u001b[0;32m      5\u001b[0m     \u001b[0mproxy\u001b[0m\u001b[1;33m.\u001b[0m\u001b[0mnew_har\u001b[0m\u001b[1;33m(\u001b[0m\u001b[1;34m\"ele\"\u001b[0m\u001b[1;33m,\u001b[0m \u001b[0moptions\u001b[0m\u001b[1;33m=\u001b[0m\u001b[1;33m{\u001b[0m\u001b[1;34m'captureHeaders'\u001b[0m\u001b[1;33m:\u001b[0m \u001b[1;32mTrue\u001b[0m\u001b[1;33m,\u001b[0m \u001b[1;34m'captureContent'\u001b[0m\u001b[1;33m:\u001b[0m \u001b[1;32mTrue\u001b[0m\u001b[1;33m}\u001b[0m\u001b[1;33m)\u001b[0m\u001b[1;33m\u001b[0m\u001b[1;33m\u001b[0m\u001b[0m\n\u001b[0;32m      6\u001b[0m     \u001b[1;31m# 出现元素不可点击的错误请拉长sleep时间\u001b[0m\u001b[1;33m\u001b[0m\u001b[1;33m\u001b[0m\u001b[1;33m\u001b[0m\u001b[0m\n\u001b[1;32m----> 7\u001b[1;33m     \u001b[0mtime\u001b[0m\u001b[1;33m.\u001b[0m\u001b[0msleep\u001b[0m\u001b[1;33m(\u001b[0m\u001b[1;36m3\u001b[0m\u001b[1;33m)\u001b[0m\u001b[1;33m\u001b[0m\u001b[1;33m\u001b[0m\u001b[0m\n\u001b[0m\u001b[0;32m      8\u001b[0m     \u001b[1;31m# 使down函数生效\u001b[0m\u001b[1;33m\u001b[0m\u001b[1;33m\u001b[0m\u001b[1;33m\u001b[0m\u001b[0m\n\u001b[0;32m      9\u001b[0m     \u001b[1;32mtry\u001b[0m\u001b[1;33m:\u001b[0m\u001b[1;33m\u001b[0m\u001b[1;33m\u001b[0m\u001b[0m\n",
      "\u001b[1;31mKeyboardInterrupt\u001b[0m: "
     ]
    }
   ],
   "source": [
    "for index in range(1572,len(rewriteInfo)):\n",
    "    driver.get(urls.URL[index])\n",
    "    # 开始抓包\n",
    "    # 抓包/刷新包中的内容\n",
    "    proxy.new_har(\"ele\", options={'captureHeaders': True, 'captureContent': True})\n",
    "    # 出现元素不可点击的错误请拉长sleep时间\n",
    "    time.sleep(3)\n",
    "    # 使down函数生效\n",
    "    try:\n",
    "        driver.find_elements(By.CLASS_NAME,\"tab__item-text\")[0].click()\n",
    "    except ElementClickInterceptedException:\n",
    "        # 发现滑块验证\n",
    "        if len(driver.find_elements(By.TAG_NAME,\"iframe\")) == 2:\n",
    "            fuck_verification()\n",
    "        else:\n",
    "            driver.find_element(By.CLASS_NAME,\"shop-critical-status-container\").find_element(By.CLASS_NAME,\"arrow\").click()\n",
    "            driver.find_elements(By.CLASS_NAME,\"tab__item-text\")[0].click()\n",
    "            time.sleep(1)\n",
    "    except IndexError:\n",
    "        shopInfo =  \"NaN\",\"NaN\",\"NaN\",\"NaN\",\n",
    "        rewriteInfo.loc[index, [\"allPrice\",\"Merchant address\", \"Type\", \"openTime\"]] = shopInfo \n",
    "        rewriteInfo.to_csv(\"./coordinate_store/allFile.csv\",encoding=\"utf-8-sig\")\n",
    "        continue\n",
    "\n",
    "    down(_)\n",
    "    time.sleep(3)\n",
    "    pack = proxy.har\n",
    "    pack = pack[\"log\"][\"entries\"]\n",
    "    # Q 中保存POST时\"mtop.alsc.waimai.store.miniapp.store.detail.body.query\" 的请求\n",
    "    Q = []\n",
    "    for i in range(0,len(pack)):\n",
    "        if \"mtop.alsc.waimai.store.miniapp.store.detail.body.query\" in json.dumps(pack[i][\"request\"][\"queryString\"]):\n",
    "            Q.append(pack[i])\n",
    "\n",
    "    # 将精简完成的Q传入下面的函数获取商店内的所有价格\n",
    "    if Q:\n",
    "        try :\n",
    "            C = condenseQ(Q)\n",
    "        except IndexError:\n",
    "            continue\n",
    "        allPriceList = allPrice(C)\n",
    "        newC = clear(\"=\",0.0,allPriceList)\n",
    "    else:\n",
    "        print(f\"Q IS NULL .FUCK!!! index:{index}\")\n",
    "        # null_price.append(index)\n",
    "        newC = \"\"\n",
    "    # 价格获取完毕之后 获取商家信息\n",
    "    driver.find_elements(By.CLASS_NAME,\"tab__item-text\")[-1].click()\n",
    "    time.sleep(4)\n",
    "\n",
    "    # 商家地址\n",
    "    shop_add = driver.find_element(By.CLASS_NAME,\"shop__info__name-location-location\").text\n",
    "\n",
    "    # \n",
    "    #     \n",
    "    #     # shop_add = driver.find_element(By.CLASS_NAME,\"shop__info__name-location-location\").text\n",
    "    #     shop_add = driver.find_element(By.CLASS_NAME,\"shop__info__name-location-location\").text\n",
    "    # except NoSuchElementException:\n",
    "    #         shop_add = driver.find_element(By.CLASS_NAME,\"shop__info__name-location-location\").text\n",
    "\n",
    "\n",
    "\n",
    "    # 商品类型\n",
    "    shop_type = driver.find_elements(By.CLASS_NAME,\"shop__info__category-item\")[0]  \n",
    "    shop_type = shop_type.text.replace(\"商家品类：\",\"\")\n",
    "\n",
    "    # 经营时间\n",
    "    opening_time = driver.find_elements(By.CLASS_NAME,\"shop__info__category-item\")[1]\n",
    "    opening_time = opening_time.text.replace(\"营业时间：\",\"\")\n",
    "\n",
    "    if newC:\n",
    "        RE_price = \"-\".join([str(i) for i in newC])\n",
    "    else:\n",
    "        RE_price = \"NaN\"\n",
    "        \n",
    "\n",
    "    shopInfo =  RE_price,shop_add,shop_type,opening_time,\n",
    "    rewriteInfo.loc[index, [\"allPrice\",\"Merchant address\", \"Type\", \"openTime\"]] = shopInfo \n",
    "    # rewriteInfo.to_csv(\"./coordinate_store/allFile.csv\",encoding=\"utf-8-sig\")\n",
    "\n"
   ]
  },
  {
   "cell_type": "code",
   "execution_count": 288,
   "metadata": {},
   "outputs": [
    {
     "data": {
      "text/plain": [
       "'浙江省温州市瓯海区梧田街道梧慈路1号第三间(不作为拆迁凭证)'"
      ]
     },
     "execution_count": 288,
     "metadata": {},
     "output_type": "execute_result"
    }
   ],
   "source": [
    "shop_add = driver.find_element(By.CLASS_NAME,\"shop__info__name-location-location\").text\n",
    "shop_add"
   ]
  },
  {
   "cell_type": "markdown",
   "metadata": {},
   "source": [
    "### 滑块验证解决"
   ]
  },
  {
   "cell_type": "code",
   "execution_count": 65,
   "metadata": {},
   "outputs": [],
   "source": [
    "# 通过 网页框架数量 切换框架\n",
    "def fuck_verification():\n",
    "    driver.switch_to.frame(1)\n",
    "    fuck = driver.find_element(By.ID,\"nc_1_n1z\")\n",
    "    action =ActionChains(driver)\n",
    "    action.click_and_hold(fuck)\n",
    "    action.move_by_offset(300,0)\n",
    "    action.release().perform()\n",
    "    driver.switch_to.default_content()"
   ]
  },
  {
   "cell_type": "code",
   "execution_count": null,
   "metadata": {},
   "outputs": [],
   "source": [
    "driver.find_elements(By.TAG_NAME,\"iframe\")"
   ]
  },
  {
   "cell_type": "code",
   "execution_count": 304,
   "metadata": {},
   "outputs": [],
   "source": [
    "rewriteInfo.to_csv(\"./备用已抓取1500.csv\",encoding=\"utf-8-sig\")"
   ]
  },
  {
   "cell_type": "markdown",
   "metadata": {},
   "source": []
  },
  {
   "cell_type": "code",
   "execution_count": null,
   "metadata": {},
   "outputs": [],
   "source": [
    "# 经纬度距离计算 /分析\n",
    "from geopy.distance import geodesic\n",
    "print(geodesic((27.982025,120.807333), (28.1367, 120.557371)).km) #计算两个坐标直线距离\n",
    "# print(geodesic((27.982025,120.807333), (27.983374,120.805307)).km) #计算两个坐标直线距离 #计算两个坐标直线距离"
   ]
  },
  {
   "cell_type": "code",
   "execution_count": null,
   "metadata": {},
   "outputs": [],
   "source": [
    "[120.557371, 28.1367][::-1]"
   ]
  },
  {
   "cell_type": "code",
   "execution_count": null,
   "metadata": {},
   "outputs": [],
   "source": [
    "for i in urls:\n",
    "    # json中获取数据\n",
    "    url = i[\"fields\"][\"restaurant\"][\"scheme\"]\n",
    "    brandName = i[\"fields\"][\"restaurant\"][\"name\"]\n",
    "    point = i[\"fields\"][\"restaurant\"][\"rating\"]\n",
    "    sell = i[\"fields\"][\"restaurant\"][\"recentOrderNum\"]\n",
    "    getTime = i[\"fields\"][\"restaurant\"][\"orderLeadTime\"]\n",
    "    distance = i[\"fields\"][\"restaurant\"][\"distance\"]\n",
    "    deliverStart = i[\"fields\"][\"restaurant\"][\"piecewiseAgentFee\"][\"rules\"][0][\"price\"]\n",
    "    try:\n",
    "        deliverFee = i[\"fields\"][\"restaurant\"][\"piecewiseAgentFee\"][\"rules\"][0][\"fee\"]\n",
    "    except KeyError:\n",
    "        deliverFee = i[\"fields\"][\"restaurant\"][\"piecewiseAgentFee\"][\"description\"]\n",
    "    try:\n",
    "        vipCoupon = \"-\".join(jsonpath.jsonpath(i[\"fields\"][\"restaurant\"][\"tagRegion\"][\"foldingSupportTags\"],\"$..text\"))\n",
    "    except KeyError:\n",
    "        vipCoupon = \"NULL\"\n",
    "    open(\"./shopInfo.csv\",\"a\",encoding=\"utf-8-sig\").write(f\"{brandName},{point},{sell},{getTime},{round(float(distance)/1000,1)},{deliverStart},{deliverFee},{vipCoupon},{'/'.join(list(Location))},{url}\\n\")"
   ]
  },
  {
   "cell_type": "code",
   "execution_count": null,
   "metadata": {},
   "outputs": [],
   "source": [
    "# 获取URL\n",
    "urls = []\n",
    "for i, j in enumerate(c['log']['entries']):\n",
    "    if 'shopId=' in j['response']['content'].get('text', ''):\n",
    "        text = c['log']['entries'][i]['response']['content']['text']\n",
    "        if text.startswith('('): continue\n",
    "        text = json.loads(text)\n",
    "        urls.extend(text['data']['data']['frontend_page_shop_list_recommend']['fields']['items'])\n",
    "len(urls)\n"
   ]
  },
  {
   "cell_type": "code",
   "execution_count": null,
   "metadata": {},
   "outputs": [],
   "source": [
    "# json中获取数据\n",
    "url = urls[0][\"fields\"][\"restaurant\"][\"scheme\"]\n",
    "brandName = urls[0][\"fields\"][\"restaurant\"][\"name\"]\n",
    "point = urls[0][\"fields\"][\"restaurant\"][\"rating\"]\n",
    "sell = urls[0][\"fields\"][\"restaurant\"][\"recentOrderNum\"]\n",
    "getTime = urls[0][\"fields\"][\"restaurant\"][\"orderLeadTime\"]\n",
    "distance = urls[0][\"fields\"][\"restaurant\"][\"distance\"]\n",
    "deliverStart = urls[0][\"fields\"][\"restaurant\"][\"piecewiseAgentFee\"][\"rules\"][0][\"price\"]\n",
    "deliverFee = urls[0][\"fields\"][\"restaurant\"][\"piecewiseAgentFee\"][\"rules\"][0][\"fee\"]\n",
    "# ensure_ascii=False 不转义非英文字符串\n",
    "# vipCoupon = json.dumps(urls[0][\"fields\"][\"restaurant\"][\"tagRegion\"][\"foldingSupportTags\"],ensure_ascii=False)\n",
    "vipCoupon = \"-\".join(jsonpath.jsonpath(urls[0][\"fields\"][\"restaurant\"][\"tagRegion\"][\"foldingSupportTags\"],\"$..text\"))\n",
    "\n",
    "open(\"./shopInfo.csv\",\"w\",encoding=\"utf-8-sig\").write(f\"{brandName},{point},{sell},{getTime},{round(float(distance)/1000,1)},{deliverStart},{deliverFee},{vipCoupon},{'/'.join(list(Location))},{url}\")"
   ]
  },
  {
   "cell_type": "code",
   "execution_count": null,
   "metadata": {},
   "outputs": [],
   "source": [
    "# 停止代理服务\n",
    "server.stop()"
   ]
  },
  {
   "cell_type": "code",
   "execution_count": null,
   "metadata": {},
   "outputs": [],
   "source": [
    "# 通过标签抓取 (舍弃)\n",
    "storeInfo = driver.find_elements(By.CLASS_NAME,\"card-takeaway-big\")\n",
    "Nlocation = \"，\".join(list(Location))\n",
    "for i in storeInfo:\n",
    "    brandName = i.find_element(By.CLASS_NAME,\"card-takeaway__title\").text\n",
    "    try:\n",
    "        point = i.find_element(By.CLASS_NAME,\"card-takeaway__store-point\").text\n",
    "    except NoSuchElementException:\n",
    "        point = \"new shop\"\n",
    "    try:\n",
    "        sell = i.find_element(By.CLASS_NAME,\"card-takeaway__store-sell\").text\n",
    "    except NoSuchElementException:\n",
    "        sell = \"new shop\"\n",
    "    getTime = i.find_element(By.CLASS_NAME,\"card-takeaway__store-distance\").text\n",
    "    distance = i.find_element(By.CLASS_NAME,\"card-takeaway__store-time\").text\n",
    "    deliverStart = i.find_element(By.CLASS_NAME,\"card-takeaway__delivery-start\").text\n",
    "    deliverFee = i.find_element(By.CLASS_NAME,\"card-takeaway__delivery-fee\").text\n",
    "    vipCoupon = \"-\".join(i.find_element(By.CLASS_NAME,\"card-takeaway__tags-one\").text.split(\"\\n\"))\n",
    "    # print(vipCoupon)\n",
    "    open(\"./shopInfo.csv\",\"a\",encoding=\"utf-8-sig\").write(f\"{brandName},{point},{sell},{getTime},{distance},{deliverStart},{deliverFee},{vipCoupon},{Nlocation}\\n\")\n",
    "# 抓取标签(舍弃)\n",
    "\n",
    "for i in storeInfo:\n",
    "    try:\n",
    "        a = i.split(\"\\n\")\n",
    "        brandName = a[0]\n",
    "        point = a[1]\n",
    "        sell = a[3]\n",
    "\n",
    "        getTime,distance = a[4].split(\"分钟\")\n",
    "\n",
    "        regex = r\"(\\D*)¥(\\d*)(.*)\"\n",
    "\n",
    "        test_str = a[5]\n",
    "\n",
    "        matches = re.match(regex, test_str)\n",
    "\n",
    "        deliverStart = matches.group(2)\n",
    "        deliverFee = matches.group(3)\n",
    "        vipCoupon = \"-\".join(a[7::])\n",
    "        Nlocation = \"，\".join(list(Location))\n",
    "        \n",
    "        open(\"./shopInfo.csv\",\"w\",encoding=\"utf-8-sig\").write(f\"{brandName},{point},{sell},{getTime},{distance},{deliverStart},{deliverFee},{vipCoupon},{Nlocation}\\n\")\n",
    "    except ValueError:\n",
    "        print(i)\n",
    "        # open(\"./shopInfo.csv\",\"a\",encoding=\"utf-8-sig\").write(f\"{a}\\n\")"
   ]
  },
  {
   "cell_type": "markdown",
   "metadata": {},
   "source": [
    "120.73825,"
   ]
  }
 ],
 "metadata": {
  "interpreter": {
   "hash": "d003e291255b8ee5a0d3b09e72a4cc0e6a9b63130404157f1bb5aca6ae97f419"
  },
  "kernelspec": {
   "display_name": "Python 3.7.11 ('WebCrawle')",
   "language": "python",
   "name": "python3"
  },
  "language_info": {
   "codemirror_mode": {
    "name": "ipython",
    "version": 3
   },
   "file_extension": ".py",
   "mimetype": "text/x-python",
   "name": "python",
   "nbconvert_exporter": "python",
   "pygments_lexer": "ipython3",
   "version": "3.7.11"
  },
  "orig_nbformat": 4
 },
 "nbformat": 4,
 "nbformat_minor": 2
}
